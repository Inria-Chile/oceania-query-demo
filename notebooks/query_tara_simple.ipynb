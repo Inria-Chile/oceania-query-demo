{
 "cells": [
  {
   "cell_type": "markdown",
   "id": "9tcjtJ8cvaPv",
   "metadata": {
    "id": "9tcjtJ8cvaPv"
   },
   "source": [
    "# Query in storage TARA"
   ]
  },
  {
   "cell_type": "markdown",
   "id": "yFdcX6L9vmkE",
   "metadata": {
    "id": "yFdcX6L9vmkE"
   },
   "source": [
    "## 1. Install oceania-query-fasta like a dependency"
   ]
  },
  {
   "cell_type": "code",
   "execution_count": 1,
   "id": "55fdb172",
   "metadata": {
    "id": "55fdb172"
   },
   "outputs": [
    {
     "name": "stdout",
     "output_type": "stream",
     "text": [
      "Requirement already satisfied: oceania-query-fasta in /home/patricio/inria-chile-sdk/oceania/oceania-query-demo/examples/venv/lib/python3.9/site-packages (0.1.6)\r\n",
      "Requirement already satisfied: pandas==1.* in /home/patricio/inria-chile-sdk/oceania/oceania-query-demo/examples/venv/lib/python3.9/site-packages (from oceania-query-fasta) (1.2.5)\r\n",
      "Requirement already satisfied: requests==2.* in /home/patricio/inria-chile-sdk/oceania/oceania-query-demo/examples/venv/lib/python3.9/site-packages (from oceania-query-fasta) (2.25.1)\r\n",
      "Requirement already satisfied: click==7.* in /home/patricio/inria-chile-sdk/oceania/oceania-query-demo/examples/venv/lib/python3.9/site-packages (from oceania-query-fasta) (7.1.2)\r\n",
      "Requirement already satisfied: numpy>=1.16.5 in /home/patricio/inria-chile-sdk/oceania/oceania-query-demo/examples/venv/lib/python3.9/site-packages (from pandas==1.*->oceania-query-fasta) (1.21.0)\r\n",
      "Requirement already satisfied: python-dateutil>=2.7.3 in /home/patricio/inria-chile-sdk/oceania/oceania-query-demo/examples/venv/lib/python3.9/site-packages (from pandas==1.*->oceania-query-fasta) (2.8.1)\r\n",
      "Requirement already satisfied: pytz>=2017.3 in /home/patricio/inria-chile-sdk/oceania/oceania-query-demo/examples/venv/lib/python3.9/site-packages (from pandas==1.*->oceania-query-fasta) (2021.1)\r\n",
      "Requirement already satisfied: idna<3,>=2.5 in /home/patricio/inria-chile-sdk/oceania/oceania-query-demo/examples/venv/lib/python3.9/site-packages (from requests==2.*->oceania-query-fasta) (2.10)\r\n",
      "Requirement already satisfied: certifi>=2017.4.17 in /home/patricio/inria-chile-sdk/oceania/oceania-query-demo/examples/venv/lib/python3.9/site-packages (from requests==2.*->oceania-query-fasta) (2021.5.30)\r\n",
      "Requirement already satisfied: chardet<5,>=3.0.2 in /home/patricio/inria-chile-sdk/oceania/oceania-query-demo/examples/venv/lib/python3.9/site-packages (from requests==2.*->oceania-query-fasta) (4.0.0)\r\n",
      "Requirement already satisfied: urllib3<1.27,>=1.21.1 in /home/patricio/inria-chile-sdk/oceania/oceania-query-demo/examples/venv/lib/python3.9/site-packages (from requests==2.*->oceania-query-fasta) (1.26.5)\r\n",
      "Requirement already satisfied: six>=1.5 in /home/patricio/inria-chile-sdk/oceania/oceania-query-demo/examples/venv/lib/python3.9/site-packages (from python-dateutil>=2.7.3->pandas==1.*->oceania-query-fasta) (1.16.0)\r\n"
     ]
    }
   ],
   "source": [
    "!pip install oceania-query-fasta"
   ]
  },
  {
   "cell_type": "markdown",
   "id": "5ea0f4b3",
   "metadata": {},
   "source": [
    "## 2. Manually choose the file from the list of FASTA samples and choose some gaps with some critera of filter"
   ]
  },
  {
   "cell_type": "code",
   "execution_count": 2,
   "id": "4132badf",
   "metadata": {},
   "outputs": [],
   "source": [
    "#@title Doubke click to see the cell of the Python program\n",
    "\n",
    "STORAGE_KEY = \"data/raw/tara/OM-RGC_v2/assemblies/TARA_A100000171.scaftig.gz\"\n",
    "POSITIONS = [\n",
    "            [\"TARA_A100000171_G_scaffold48_1\", 10, 50, \"complement\"],\n",
    "            [\"TARA_A100000171_G_scaffold48_1\", 10, 50],\n",
    "            [\"TARA_A100000171_G_scaffold48_1\", 10, 50, \"reverse_complement\"],\n",
    "            [\"TARA_A100000171_G_scaffold181_1\", 0, 50],\n",
    "            [\"TARA_A100000171_G_scaffold181_1\", 100, 200],\n",
    "            [\"TARA_A100000171_G_scaffold181_1\", 200, 230],\n",
    "            [\"TARA_A100000171_G_scaffold493_2\", 54, 76],\n",
    "            [\"TARA_A100000171_G_scaffold50396_2\", 87, 105],\n",
    "            [\"TARA_A100000171_G_C2001995_1\", 20, 635],\n",
    "            [\"TARA_A100000171_G_C2026460_1\", 0, 100],\n",
    "        ]"
   ]
  },
  {
   "cell_type": "markdown",
   "id": "0159d5e7",
   "metadata": {},
   "source": [
    "## 3. Extract the biological sequences of the selected gaps"
   ]
  },
  {
   "cell_type": "code",
   "execution_count": 3,
   "id": "6344f9c6",
   "metadata": {},
   "outputs": [
    {
     "name": "stderr",
     "output_type": "stream",
     "text": [
      "[27-06-2021 01:40:53] Sending request for fasta sequences\n",
      "[27-06-2021 01:40:54] Request accepted\n",
      "[27-06-2021 01:40:54] Waiting for results...\n",
      "[27-06-2021 01:41:05] Done. Elapsed time: 12.769201139999495 seconds\n"
     ]
    },
    {
     "name": "stdout",
     "output_type": "stream",
     "text": [
      "Dataframe loaded:\n",
      "                                  id  start  end                type  \\\n",
      "0     TARA_A100000171_G_scaffold48_1     10   50          complement   \n",
      "1     TARA_A100000171_G_scaffold48_1     10   50                 raw   \n",
      "2     TARA_A100000171_G_scaffold48_1     10   50  reverse_complement   \n",
      "3    TARA_A100000171_G_scaffold181_1      0   50                 raw   \n",
      "4    TARA_A100000171_G_scaffold181_1    100  200                 raw   \n",
      "5    TARA_A100000171_G_scaffold181_1    200  230                 raw   \n",
      "6    TARA_A100000171_G_scaffold493_2     54   76                 raw   \n",
      "7  TARA_A100000171_G_scaffold50396_2     87  105                 raw   \n",
      "8       TARA_A100000171_G_C2001995_1     20  635                 raw   \n",
      "9       TARA_A100000171_G_C2026460_1      0  100                 raw   \n",
      "\n",
      "                                            sequence  \n",
      "0           ACCGTAACGTAGGCCATATTATTTTCATGGTCTTCCACAA  \n",
      "1           TGGCATTGCATCCGGTATAATAAAAGTACCAGAAGGTGTT  \n",
      "2           AACACCTTCTGGTACTTTTATTATACCGGATGCAATGCCA  \n",
      "3  CCAAGACCAAGCAATTTTAACACCACACTTAGATACTGCGCAAACA...  \n",
      "4  ATTATGTTACCAGCACTTGATAACCAAAAAGTTTGGGcaggattaa...  \n",
      "5                     ATCAAACTGATGCTACTAACTCAGAAGCAT  \n",
      "6                             TAAGTTTTTATTATTATATTTT  \n",
      "7                                 AGCTGTTCGGAAAACTAG  \n",
      "8  ACAGCACACCAAGCAGGTCGTCGACCGAAACGATATTGAGAAGAAT...  \n",
      "9  AATTTGAAACAACCCTAAAGTGTTTACCATAATAGGTTCTTAAATC...  \n"
     ]
    }
   ],
   "source": [
    "#@title Doubke click to see the cell of the Python program\n",
    "\n",
    "from oceania import get_sequences_from_fasta\n",
    "\n",
    "results = get_sequences_from_fasta(\n",
    "    STORAGE_KEY,\n",
    "    POSITIONS\n",
    ")\n",
    "\n",
    "print(\"Dataframe loaded:\")\n",
    "print(results)"
   ]
  }
 ],
 "metadata": {
  "colab": {
   "name": "Copia de query_dependecy.ipynb",
   "provenance": [
    {
     "file_id": "https://github.com/Inria-Chile/oceania-lib-demo/blob/main/notebooks/query_dependecy.ipynb",
     "timestamp": 1623342428289
    }
   ]
  },
  "kernelspec": {
   "display_name": "Python 3",
   "language": "python",
   "name": "python3"
  },
  "language_info": {
   "codemirror_mode": {
    "name": "ipython",
    "version": 3
   },
   "file_extension": ".py",
   "mimetype": "text/x-python",
   "name": "python",
   "nbconvert_exporter": "python",
   "pygments_lexer": "ipython3",
   "version": "3.9.5"
  }
 },
 "nbformat": 4,
 "nbformat_minor": 5
}
