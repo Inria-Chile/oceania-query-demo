{
 "cells": [
  {
   "cell_type": "markdown",
   "id": "9tcjtJ8cvaPv",
   "metadata": {
    "id": "9tcjtJ8cvaPv"
   },
   "source": [
    "# Query in storage TARA_A100000171"
   ]
  },
  {
   "cell_type": "markdown",
   "id": "ad49c138",
   "metadata": {},
   "source": [
    "![A user queries data of Ocean Microbial Reference Gene Catalog v2](https://upload.wikimedia.org/wikipedia/commons/1/19/Oceania-query-fasta.png)"
   ]
  },
  {
   "cell_type": "markdown",
   "id": "89879586",
   "metadata": {},
   "source": [
    "The FASTA file can have two types biological sequences (exclusion):\n",
    "\n",
    "1. Nucleotides: (comes from DNA/RNA) if it has its 4 letters alphabet (there are exceptions, but they are not relevant): ATCG. They correspond to the files of scaftigs (fragments of chromosomes or plasmids) and those of CDS (CoDing Sequences), genes that will become proteins. The central dogma of molecular biology says that GEN (in the genome) - transcription -> TRANSCRIT (mRNA) - translation -> PROTEIN (plays a role). Not everything that is in the genome is executed, so we have two types of nucleotides, which in the OM-RGC-V2, they are separated in metaG -> files with genome fragments metaT -> files with fragments of what was transcribed (what is running, transcriptome).\n",
    "\n",
    "2. Aminoacids: Their alphabet of 20-25 letters approx:\n",
    "\n",
    "ABCDEFGHIKLMNPQRSTVWYZ\n",
    "\n",
    "They correspond to proteins or protein fragments that play a role, supposedly, genes can be transformed to this type of sequence, for example in biopython using the translate command.\n",
    "\n",
    "This example has the following steps:\n",
    "\n",
    "1. Install de dependency library\n",
    "2. List all FASTA samples\n",
    "3. Choose the sample of the list.\n",
    "4. List all genes and gaps between genes for the sample\n",
    "5. Choose some gaps with some critera of filter (some simple like the length of the gap > n)\n",
    "6. Extract the sequences of the selected gaps\n",
    "    \n",
    "When the user chooses the proper input file of Ocean Microbial Reference Gene Catalog v2, in this case data/raw/tara/OM-RGC_v2/assemblies/TARA_A100000171.scaftig.gz and sets the filters in the POSITIONS variables. \n",
    "\n",
    "STORAGE_KEY: The object key file in the OceanIA storage.\n",
    "\n",
    "POSITIONS: The values to query. Each line represents a sequence to extract in the format \"sequence_id,start,end,type\", where:\n",
    "\n",
    "sequence_id: The sequence ID.\n",
    "\n",
    "start: The start index position of the sequence to be extracted.\n",
    "\n",
    "end: The end index position of the sequence to extract.\n",
    "\n",
    "type: The type of the sequence to extract. Options are [\"raw\", \"complement\", \"reverse_complement\"]. Type value is optional, if not provided default is \"raw\".\n",
    "\n",
    "After that, the user calls to the get_sequences_from_fasta method, in order to have the result data in pandas.\n",
    "\n",
    "Finally, the user prints the pandas data frame to the console."
   ]
  },
  {
   "cell_type": "markdown",
   "id": "0eb0fef4",
   "metadata": {},
   "source": [
    "## 1. Install oceania-query-fasta like a dependency"
   ]
  },
  {
   "cell_type": "code",
   "execution_count": 1,
   "id": "55fdb172",
   "metadata": {
    "id": "55fdb172"
   },
   "outputs": [
    {
     "name": "stdout",
     "output_type": "stream",
     "text": [
      "Collecting oceania-query-fasta\n",
      "  Using cached oceania_query_fasta-0.1.6-py3-none-any.whl (13 kB)\n",
      "Collecting pandas==1.*\n",
      "  Using cached pandas-1.2.5-cp39-cp39-manylinux_2_5_x86_64.manylinux1_x86_64.whl (9.7 MB)\n",
      "Collecting click==7.*\n",
      "  Using cached click-7.1.2-py2.py3-none-any.whl (82 kB)\n",
      "Collecting requests==2.*\n",
      "  Using cached requests-2.25.1-py2.py3-none-any.whl (61 kB)\n",
      "Requirement already satisfied: python-dateutil>=2.7.3 in /home/patricio/inria-chile-sdk/oceania/oceania-query-demo/examples/venv/lib/python3.9/site-packages (from pandas==1.*->oceania-query-fasta) (2.8.1)\n",
      "Collecting pytz>=2017.3\n",
      "  Using cached pytz-2021.1-py2.py3-none-any.whl (510 kB)\n",
      "Collecting numpy>=1.16.5\n",
      "  Using cached numpy-1.21.0-cp39-cp39-manylinux_2_12_x86_64.manylinux2010_x86_64.whl (15.7 MB)\n",
      "Collecting chardet<5,>=3.0.2\n",
      "  Using cached chardet-4.0.0-py2.py3-none-any.whl (178 kB)\n",
      "Collecting urllib3<1.27,>=1.21.1\n",
      "  Using cached urllib3-1.26.5-py2.py3-none-any.whl (138 kB)\n",
      "Collecting idna<3,>=2.5\n",
      "  Using cached idna-2.10-py2.py3-none-any.whl (58 kB)\n",
      "Collecting certifi>=2017.4.17\n",
      "  Using cached certifi-2021.5.30-py2.py3-none-any.whl (145 kB)\n",
      "Requirement already satisfied: six>=1.5 in /home/patricio/inria-chile-sdk/oceania/oceania-query-demo/examples/venv/lib/python3.9/site-packages (from python-dateutil>=2.7.3->pandas==1.*->oceania-query-fasta) (1.16.0)\n",
      "Installing collected packages: urllib3, pytz, numpy, idna, chardet, certifi, requests, pandas, click, oceania-query-fasta\n",
      "Successfully installed certifi-2021.5.30 chardet-4.0.0 click-7.1.2 idna-2.10 numpy-1.21.0 oceania-query-fasta-0.1.6 pandas-1.2.5 pytz-2021.1 requests-2.25.1 urllib3-1.26.5\n"
     ]
    }
   ],
   "source": [
    "!pip install oceania-query-fasta"
   ]
  },
  {
   "cell_type": "markdown",
   "id": "50eee845",
   "metadata": {},
   "source": [
    "## 2. List all FASTA samples"
   ]
  },
  {
   "cell_type": "code",
   "execution_count": 2,
   "id": "5e47e1e6",
   "metadata": {
    "id": "5e47e1e6",
    "outputId": "f40ac50c-77c5-4908-f609-81b4627a57ab"
   },
   "outputs": [
    {
     "name": "stdout",
     "output_type": "stream",
     "text": [
      "Samples list:\n",
      "           sample_id                                         sample_key\n",
      "0    TARA_A100000164  data/raw/tara/OM-RGC_v2/assemblies/TARA_A10000...\n",
      "1    TARA_A100000171  data/raw/tara/OM-RGC_v2/assemblies/TARA_A10000...\n",
      "2    TARA_A100000172  data/raw/tara/OM-RGC_v2/assemblies/TARA_A10000...\n",
      "3    TARA_A100001011  data/raw/tara/OM-RGC_v2/assemblies/TARA_A10000...\n",
      "4    TARA_A100001015  data/raw/tara/OM-RGC_v2/assemblies/TARA_A10000...\n",
      "..               ...                                                ...\n",
      "365  TARA_Y100001972  data/raw/tara/OM-RGC_v2/assemblies/TARA_Y10000...\n",
      "366  TARA_Y100001973  data/raw/tara/OM-RGC_v2/assemblies/TARA_Y10000...\n",
      "367  TARA_Y100001978  data/raw/tara/OM-RGC_v2/assemblies/TARA_Y10000...\n",
      "368  TARA_Y100001980  data/raw/tara/OM-RGC_v2/assemblies/TARA_Y10000...\n",
      "369  TARA_Y200000002  data/raw/tara/OM-RGC_v2/assemblies/TARA_Y20000...\n",
      "\n",
      "[370 rows x 2 columns]\n"
     ]
    }
   ],
   "source": [
    "#@title Doubke click to see the cell of the Python program\n",
    "\n",
    "from oceania import list_fasta_samples\n",
    "\n",
    "df_samples = list_fasta_samples()\n",
    "\n",
    "print(\"Samples list:\")\n",
    "print(df_samples)"
   ]
  },
  {
   "cell_type": "markdown",
   "id": "81cfbd1a",
   "metadata": {},
   "source": [
    "## 3. Manually choose the file from the list of FASTA samples"
   ]
  },
  {
   "cell_type": "code",
   "execution_count": 3,
   "id": "389e6a93",
   "metadata": {},
   "outputs": [
    {
     "name": "stdout",
     "output_type": "stream",
     "text": [
      "Genes and gaps by sample:\n",
      "              original_sequence_id  \\\n",
      "0    TARA_A100000171_G_scaffold5_1   \n",
      "1    TARA_A100000171_G_scaffold5_1   \n",
      "2    TARA_A100000171_G_scaffold5_1   \n",
      "3    TARA_A100000171_G_scaffold6_1   \n",
      "4    TARA_A100000171_G_scaffold6_1   \n",
      "5    TARA_A100000171_G_scaffold8_1   \n",
      "6    TARA_A100000171_G_scaffold8_1   \n",
      "7   TARA_A100000171_G_scaffold10_1   \n",
      "8   TARA_A100000171_G_scaffold10_1   \n",
      "9   TARA_A100000171_G_scaffold12_1   \n",
      "10  TARA_A100000171_G_scaffold12_1   \n",
      "11  TARA_A100000171_G_scaffold14_1   \n",
      "12  TARA_A100000171_G_scaffold14_1   \n",
      "13  TARA_A100000171_G_scaffold14_1   \n",
      "14  TARA_A100000171_G_scaffold14_1   \n",
      "15  TARA_A100000171_G_scaffold23_1   \n",
      "16  TARA_A100000171_G_scaffold23_1   \n",
      "17  TARA_A100000171_G_scaffold23_1   \n",
      "18  TARA_A100000171_G_scaffold23_1   \n",
      "19  TARA_A100000171_G_scaffold23_1   \n",
      "20  TARA_A100000171_G_scaffold23_1   \n",
      "21  TARA_A100000171_G_scaffold24_1   \n",
      "22  TARA_A100000171_G_scaffold24_1   \n",
      "23  TARA_A100000171_G_scaffold25_1   \n",
      "24  TARA_A100000171_G_scaffold25_1   \n",
      "25  TARA_A100000171_G_scaffold25_1   \n",
      "26  TARA_A100000171_G_scaffold25_1   \n",
      "27  TARA_A100000171_G_scaffold25_2   \n",
      "28  TARA_A100000171_G_scaffold25_2   \n",
      "29  TARA_A100000171_G_scaffold25_2   \n",
      "30  TARA_A100000171_G_scaffold25_2   \n",
      "31  TARA_A100000171_G_scaffold30_1   \n",
      "32  TARA_A100000171_G_scaffold30_1   \n",
      "33  TARA_A100000171_G_scaffold30_1   \n",
      "34  TARA_A100000171_G_scaffold30_1   \n",
      "35  TARA_A100000171_G_scaffold31_1   \n",
      "36  TARA_A100000171_G_scaffold31_1   \n",
      "37  TARA_A100000171_G_scaffold31_1   \n",
      "38  TARA_A100000171_G_scaffold31_1   \n",
      "39  TARA_A100000171_G_scaffold37_1   \n",
      "40  TARA_A100000171_G_scaffold37_1   \n",
      "41  TARA_A100000171_G_scaffold38_1   \n",
      "42  TARA_A100000171_G_scaffold38_1   \n",
      "43  TARA_A100000171_G_scaffold38_1   \n",
      "44  TARA_A100000171_G_scaffold38_1   \n",
      "45  TARA_A100000171_G_scaffold38_1   \n",
      "46  TARA_A100000171_G_scaffold38_1   \n",
      "47  TARA_A100000171_G_scaffold38_1   \n",
      "48  TARA_A100000171_G_scaffold38_1   \n",
      "\n",
      "                                                   id strand  start  stop  \\\n",
      "0                 TARA_A100000171_G_scaffold5_1_gene1      -      2   568   \n",
      "1   gap__TARA_A100000171_G_scaffold5_1_gene1__TARA...    NaN    568   783   \n",
      "2                 TARA_A100000171_G_scaffold5_1_gene2      -    783   968   \n",
      "3   gap__TARA_A100000171_G_scaffold5_1_gene2__TARA...    NaN      0     2   \n",
      "4                 TARA_A100000171_G_scaffold6_1_gene3      +      2   934   \n",
      "5   gap__TARA_A100000171_G_scaffold6_1_gene3__TARA...    NaN      0     1   \n",
      "6                 TARA_A100000171_G_scaffold8_1_gene4      -      1   804   \n",
      "7   gap__TARA_A100000171_G_scaffold8_1_gene4__TARA...    NaN      0     2   \n",
      "8                TARA_A100000171_G_scaffold10_1_gene5      +      2   520   \n",
      "9   gap__TARA_A100000171_G_scaffold10_1_gene5__TAR...    NaN      0     3   \n",
      "10               TARA_A100000171_G_scaffold12_1_gene6      +      3   647   \n",
      "11  gap__TARA_A100000171_G_scaffold12_1_gene6__TAR...    NaN      0     2   \n",
      "12               TARA_A100000171_G_scaffold14_1_gene7      +      2  1165   \n",
      "13  gap__TARA_A100000171_G_scaffold14_1_gene7__TAR...    NaN   1165  1168   \n",
      "14               TARA_A100000171_G_scaffold14_1_gene8      -   1168  1386   \n",
      "15  gap__TARA_A100000171_G_scaffold14_1_gene8__TAR...    NaN      0   157   \n",
      "16               TARA_A100000171_G_scaffold23_1_gene9      -    157   432   \n",
      "17  gap__TARA_A100000171_G_scaffold23_1_gene9__TAR...    NaN    432   567   \n",
      "18              TARA_A100000171_G_scaffold23_1_gene10      -    567   773   \n",
      "19  gap__TARA_A100000171_G_scaffold23_1_gene10__TA...    NaN    773   773   \n",
      "20              TARA_A100000171_G_scaffold23_1_gene11      -    773  1285   \n",
      "21  gap__TARA_A100000171_G_scaffold23_1_gene11__TA...    NaN      0     1   \n",
      "22              TARA_A100000171_G_scaffold24_1_gene12      +      1   729   \n",
      "23  gap__TARA_A100000171_G_scaffold24_1_gene12__TA...    NaN      0   106   \n",
      "24              TARA_A100000171_G_scaffold25_1_gene13      +    106   429   \n",
      "25  gap__TARA_A100000171_G_scaffold25_1_gene13__TA...    NaN    429   426   \n",
      "26              TARA_A100000171_G_scaffold25_1_gene14      +    426   761   \n",
      "27  gap__TARA_A100000171_G_scaffold25_1_gene14__TA...    NaN      0     1   \n",
      "28              TARA_A100000171_G_scaffold25_2_gene15      +      1   402   \n",
      "29  gap__TARA_A100000171_G_scaffold25_2_gene15__TA...    NaN    402   661   \n",
      "30              TARA_A100000171_G_scaffold25_2_gene16      +    661   939   \n",
      "31  gap__TARA_A100000171_G_scaffold25_2_gene16__TA...    NaN      0     3   \n",
      "32              TARA_A100000171_G_scaffold30_1_gene17      -      3   350   \n",
      "33  gap__TARA_A100000171_G_scaffold30_1_gene17__TA...    NaN    350   347   \n",
      "34              TARA_A100000171_G_scaffold30_1_gene18      -    347   592   \n",
      "35  gap__TARA_A100000171_G_scaffold30_1_gene18__TA...    NaN      0     1   \n",
      "36              TARA_A100000171_G_scaffold31_1_gene19      -      1   180   \n",
      "37  gap__TARA_A100000171_G_scaffold31_1_gene19__TA...    NaN    180   182   \n",
      "38              TARA_A100000171_G_scaffold31_1_gene20      -    182   721   \n",
      "39  gap__TARA_A100000171_G_scaffold31_1_gene20__TA...    NaN      0   209   \n",
      "40              TARA_A100000171_G_scaffold37_1_gene21      -    209   604   \n",
      "41  gap__TARA_A100000171_G_scaffold37_1_gene21__TA...    NaN      0     1   \n",
      "42              TARA_A100000171_G_scaffold38_1_gene22      +      1   204   \n",
      "43  gap__TARA_A100000171_G_scaffold38_1_gene22__TA...    NaN    204   225   \n",
      "44              TARA_A100000171_G_scaffold38_1_gene23      -    225   698   \n",
      "45  gap__TARA_A100000171_G_scaffold38_1_gene23__TA...    NaN    698   718   \n",
      "46              TARA_A100000171_G_scaffold38_1_gene24      -    718  1215   \n",
      "47  gap__TARA_A100000171_G_scaffold38_1_gene24__TA...    NaN   1215  1320   \n",
      "48              TARA_A100000171_G_scaffold38_1_gene25      -   1320  1793   \n",
      "\n",
      "    length start_codon stop_codon   gene_type  \n",
      "0      567         yes         no  incomplete  \n",
      "1      215         NaN        NaN         NaN  \n",
      "2      186          no        yes  incomplete  \n",
      "3        2         NaN        NaN         NaN  \n",
      "4      933          no        yes  incomplete  \n",
      "5        1         NaN        NaN         NaN  \n",
      "6      804          no         no  incomplete  \n",
      "7        2         NaN        NaN         NaN  \n",
      "8      519          no         no  incomplete  \n",
      "9        3         NaN        NaN         NaN  \n",
      "10     645          no         no  incomplete  \n",
      "11       2         NaN        NaN         NaN  \n",
      "12    1164          no        yes  incomplete  \n",
      "13       3         NaN        NaN         NaN  \n",
      "14     219         yes        yes    complete  \n",
      "15     157         NaN        NaN         NaN  \n",
      "16     276         yes        yes    complete  \n",
      "17     135         NaN        NaN         NaN  \n",
      "18     207         yes        yes    complete  \n",
      "19       0         NaN        NaN         NaN  \n",
      "20     513         yes        yes    complete  \n",
      "21       1         NaN        NaN         NaN  \n",
      "22     729          no        yes  incomplete  \n",
      "23     106         NaN        NaN         NaN  \n",
      "24     324         yes        yes    complete  \n",
      "25      -3         NaN        NaN         NaN  \n",
      "26     336         yes         no  incomplete  \n",
      "27       1         NaN        NaN         NaN  \n",
      "28     402          no        yes  incomplete  \n",
      "29     259         NaN        NaN         NaN  \n",
      "30     279         yes         no  incomplete  \n",
      "31       3         NaN        NaN         NaN  \n",
      "32     348         yes         no  incomplete  \n",
      "33      -3         NaN        NaN         NaN  \n",
      "34     246          no        yes  incomplete  \n",
      "35       1         NaN        NaN         NaN  \n",
      "36     180         yes         no  incomplete  \n",
      "37       2         NaN        NaN         NaN  \n",
      "38     540          no        yes  incomplete  \n",
      "39     209         NaN        NaN         NaN  \n",
      "40     396          no        yes  incomplete  \n",
      "41       1         NaN        NaN         NaN  \n",
      "42     204          no        yes  incomplete  \n",
      "43      21         NaN        NaN         NaN  \n",
      "44     474         yes        yes    complete  \n",
      "45      20         NaN        NaN         NaN  \n",
      "46     498         yes        yes    complete  \n",
      "47     105         NaN        NaN         NaN  \n",
      "48     474         yes        yes    complete  \n"
     ]
    }
   ],
   "source": [
    "#@title Doubke click to see the cell of the Python program\n",
    "\n",
    "from oceania import list_genes_and_gaps\n",
    "\n",
    "sample_id = \"TARA_A100000171\"\n",
    "STORAGE_KEY = df_samples[df_samples.sample_id == sample_id]['sample_key'].values[0]\n",
    "df_gaps = list_genes_and_gaps(sample_id)\n",
    "\n",
    "print(\"Genes and gaps by sample:\")\n",
    "print(df_gaps)"
   ]
  },
  {
   "cell_type": "markdown",
   "id": "7917f6d7",
   "metadata": {},
   "source": [
    "## 4. Create the query filter to list gaps"
   ]
  },
  {
   "cell_type": "code",
   "execution_count": 4,
   "id": "9e34c554",
   "metadata": {},
   "outputs": [
    {
     "name": "stdout",
     "output_type": "stream",
     "text": [
      "Query list of gaps, to get 5 with length over 100\n",
      "              original_sequence_id  \\\n",
      "1    TARA_A100000171_G_scaffold5_1   \n",
      "15  TARA_A100000171_G_scaffold23_1   \n",
      "17  TARA_A100000171_G_scaffold23_1   \n",
      "23  TARA_A100000171_G_scaffold25_1   \n",
      "29  TARA_A100000171_G_scaffold25_2   \n",
      "\n",
      "                                                   id strand  start  stop  \\\n",
      "1   gap__TARA_A100000171_G_scaffold5_1_gene1__TARA...    NaN    568   783   \n",
      "15  gap__TARA_A100000171_G_scaffold14_1_gene8__TAR...    NaN      0   157   \n",
      "17  gap__TARA_A100000171_G_scaffold23_1_gene9__TAR...    NaN    432   567   \n",
      "23  gap__TARA_A100000171_G_scaffold24_1_gene12__TA...    NaN      0   106   \n",
      "29  gap__TARA_A100000171_G_scaffold25_2_gene15__TA...    NaN    402   661   \n",
      "\n",
      "    length start_codon stop_codon gene_type  \n",
      "1      215         NaN        NaN       NaN  \n",
      "15     157         NaN        NaN       NaN  \n",
      "17     135         NaN        NaN       NaN  \n",
      "23     106         NaN        NaN       NaN  \n",
      "29     259         NaN        NaN       NaN  \n"
     ]
    }
   ],
   "source": [
    "#@title Doubke click to see the cell of the Python program\n",
    "\n",
    "query = 'length > 100 and id.str.startswith(\"gap__\")'\n",
    "query_result = df_gaps.query(query, engine='python').head(5)\n",
    "\n",
    "print(\"Query list of gaps, to get 5 with length over 100\")\n",
    "print(query_result)"
   ]
  },
  {
   "cell_type": "markdown",
   "id": "c56c85d6",
   "metadata": {},
   "source": [
    "## 5. Choose some gaps with some critera of filter (some simple like the length of the gap > n)"
   ]
  },
  {
   "cell_type": "code",
   "execution_count": 5,
   "id": "5049ad63",
   "metadata": {},
   "outputs": [
    {
     "name": "stdout",
     "output_type": "stream",
     "text": [
      "Positions:\n",
      "[('TARA_A100000171_G_scaffold5_1', 568, 783), ('TARA_A100000171_G_scaffold23_1', 0, 157), ('TARA_A100000171_G_scaffold23_1', 432, 567), ('TARA_A100000171_G_scaffold25_1', 0, 106), ('TARA_A100000171_G_scaffold25_2', 402, 661)]\n"
     ]
    }
   ],
   "source": [
    "#@title Doubke click to see the cell of the Python program\n",
    "\n",
    "params = query_result[['original_sequence_id', 'start', 'stop']].copy()\n",
    "POSITIONS = []\n",
    "for row in params.itertuples():\n",
    "    POSITIONS.append((str(row[1]), int(row[2]), int(row[3])))\n",
    "\n",
    "print(\"Positions:\")\n",
    "print(POSITIONS)"
   ]
  },
  {
   "cell_type": "markdown",
   "id": "83a0e278",
   "metadata": {},
   "source": [
    "## 6. Extract the biological sequences of the selected gaps"
   ]
  },
  {
   "cell_type": "code",
   "execution_count": 6,
   "id": "75d3aa13",
   "metadata": {},
   "outputs": [
    {
     "name": "stderr",
     "output_type": "stream",
     "text": [
      "[24-06-2021 21:51:47] Sending request for fasta sequences\n",
      "[24-06-2021 21:51:47] Request accepted\n",
      "[24-06-2021 21:51:47] Waiting for results...\n",
      "[24-06-2021 21:51:58] Done. Elapsed time: 11.851772893999964 seconds\n"
     ]
    },
    {
     "name": "stdout",
     "output_type": "stream",
     "text": [
      "Dataframe loaded:\n",
      "                               id  start  end type  \\\n",
      "0   TARA_A100000171_G_scaffold5_1    568  783  raw   \n",
      "1  TARA_A100000171_G_scaffold23_1      0  157  raw   \n",
      "2  TARA_A100000171_G_scaffold23_1    432  567  raw   \n",
      "3  TARA_A100000171_G_scaffold25_1      0  106  raw   \n",
      "4  TARA_A100000171_G_scaffold25_2    402  661  raw   \n",
      "\n",
      "                                            sequence  \n",
      "0  GAAAGGTGGAAAGGCAAGGTGGCGGCGCCAATTCCGCCGGTGGTCG...  \n",
      "1  AAGTTCGTAGGTCACTGGAAATCCAAATTTTACGGGTGATGAATGC...  \n",
      "2  GGATGCCTCCTTTGAAAATGGCTGTCACCTATGACATAGAAGTCAA...  \n",
      "3  AGTTTGGAAGGTGGATACGGCATTCATTGTCGTGTCATCTTTTTCG...  \n",
      "4  AGCGGCGGTATGAAATAGAGCTATTTTGCTGAAAGCCGCCATGCAA...  \n"
     ]
    }
   ],
   "source": [
    "#@title Doubke click to see the cell of the Python program\n",
    "\n",
    "from oceania import get_sequences_from_fasta\n",
    "\n",
    "results = get_sequences_from_fasta(\n",
    "    STORAGE_KEY,\n",
    "    POSITIONS\n",
    ")\n",
    "\n",
    "print(\"Dataframe loaded:\")\n",
    "print(results)"
   ]
  },
  {
   "cell_type": "code",
   "execution_count": null,
   "id": "8befca66",
   "metadata": {},
   "outputs": [],
   "source": []
  }
 ],
 "metadata": {
  "colab": {
   "name": "Copia de query_dependecy.ipynb",
   "provenance": [
    {
     "file_id": "https://github.com/Inria-Chile/oceania-lib-demo/blob/main/notebooks/query_dependecy.ipynb",
     "timestamp": 1623342428289
    }
   ]
  },
  "kernelspec": {
   "display_name": "Python 3",
   "language": "python",
   "name": "python3"
  },
  "language_info": {
   "codemirror_mode": {
    "name": "ipython",
    "version": 3
   },
   "file_extension": ".py",
   "mimetype": "text/x-python",
   "name": "python",
   "nbconvert_exporter": "python",
   "pygments_lexer": "ipython3",
   "version": "3.9.5"
  }
 },
 "nbformat": 4,
 "nbformat_minor": 5
}
