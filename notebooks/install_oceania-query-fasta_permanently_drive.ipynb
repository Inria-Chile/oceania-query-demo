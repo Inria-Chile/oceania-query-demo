{
 "cells": [
  {
   "cell_type": "markdown",
   "id": "3853e83f",
   "metadata": {},
   "source": [
    "Method to install oceania-query-fasta Python Library in Google Drive permanently. \n",
    "\n",
    "You can use it from any new Colab notebook."
   ]
  },
  {
   "cell_type": "code",
   "execution_count": null,
   "id": "d8e7bdab",
   "metadata": {},
   "outputs": [],
   "source": [
    "import sys\n",
    "nb_path = \"/content/drive/My Drive/Colab Notebooks\"\n",
    "if nb_path not in sys.path:\n",
    "  sys.path.insert(5, nb_path)\n",
    "\n",
    "# Install only once. Tomorrow, you can skip this.\n",
    "# Call pip install on 1st time only\n",
    "!pip install oceania-query-fasta --target=\"{nb_path}\"\n",
    "import oceania"
   ]
  }
 ],
 "metadata": {
  "kernelspec": {
   "display_name": "Python 3",
   "language": "python",
   "name": "python3"
  },
  "language_info": {
   "codemirror_mode": {
    "name": "ipython",
    "version": 3
   },
   "file_extension": ".py",
   "mimetype": "text/x-python",
   "name": "python",
   "nbconvert_exporter": "python",
   "pygments_lexer": "ipython3",
   "version": "3.9.5"
  }
 },
 "nbformat": 4,
 "nbformat_minor": 5
}
