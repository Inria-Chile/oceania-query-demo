{
 "cells": [
  {
   "cell_type": "markdown",
   "id": "9tcjtJ8cvaPv",
   "metadata": {
    "id": "9tcjtJ8cvaPv"
   },
   "source": [
    "# Query to get intergenic regions of a TARA sample in the OcéanIA Platform"
   ]
  },
  {
   "cell_type": "markdown",
   "id": "yFdcX6L9vmkE",
   "metadata": {
    "id": "yFdcX6L9vmkE"
   },
   "source": [
    "### 1. Install oceania-query-fasta package"
   ]
  },
  {
   "cell_type": "code",
   "execution_count": 1,
   "id": "55fdb172",
   "metadata": {
    "id": "55fdb172"
   },
   "outputs": [
    {
     "name": "stdout",
     "output_type": "stream",
     "text": [
      "Requirement already satisfied: oceania-query-fasta in /opt/conda/lib/python3.9/site-packages (0.1.6)\n",
      "Requirement already satisfied: pandas==1.* in /opt/conda/lib/python3.9/site-packages (from oceania-query-fasta) (1.2.5)\n",
      "Requirement already satisfied: click==7.* in /opt/conda/lib/python3.9/site-packages (from oceania-query-fasta) (7.1.2)\n",
      "Requirement already satisfied: requests==2.* in /opt/conda/lib/python3.9/site-packages (from oceania-query-fasta) (2.25.1)\n",
      "Requirement already satisfied: python-dateutil>=2.7.3 in /opt/conda/lib/python3.9/site-packages (from pandas==1.*->oceania-query-fasta) (2.8.1)\n",
      "Requirement already satisfied: pytz>=2017.3 in /opt/conda/lib/python3.9/site-packages (from pandas==1.*->oceania-query-fasta) (2021.1)\n",
      "Requirement already satisfied: numpy>=1.16.5 in /opt/conda/lib/python3.9/site-packages (from pandas==1.*->oceania-query-fasta) (1.21.0)\n",
      "Requirement already satisfied: urllib3<1.27,>=1.21.1 in /opt/conda/lib/python3.9/site-packages (from requests==2.*->oceania-query-fasta) (1.26.5)\n",
      "Requirement already satisfied: idna<3,>=2.5 in /opt/conda/lib/python3.9/site-packages (from requests==2.*->oceania-query-fasta) (2.10)\n",
      "Requirement already satisfied: chardet<5,>=3.0.2 in /opt/conda/lib/python3.9/site-packages (from requests==2.*->oceania-query-fasta) (4.0.0)\n",
      "Requirement already satisfied: certifi>=2017.4.17 in /opt/conda/lib/python3.9/site-packages (from requests==2.*->oceania-query-fasta) (2021.5.30)\n",
      "Requirement already satisfied: six>=1.5 in /opt/conda/lib/python3.9/site-packages (from python-dateutil>=2.7.3->pandas==1.*->oceania-query-fasta) (1.16.0)\n"
     ]
    }
   ],
   "source": [
    "!pip install oceania-query-fasta\n",
    "!pip install openpyxl # required to load supplementary info into pandas"
   ]
  },
  {
   "cell_type": "markdown",
   "id": "5bdf46f4-fbba-4df4-9450-d4e4ab1dc415",
   "metadata": {},
   "source": [
    "### 2. Load supplementary information for samples and data of Ocean Microbial Reference Gene Catalog v2"
   ]
  },
  {
   "cell_type": "code",
   "execution_count": 1,
   "id": "42df4bb5-ac1c-4137-bfae-0e40596f9cc4",
   "metadata": {},
   "outputs": [
    {
     "name": "stdout",
     "output_type": "stream",
     "text": [
      "  PANGAEA sample id BioSamples_ID     ENA_ID ENA_Run_ID MetaG/MetaT  Station  \\\n",
      "0   TARA_Y100000004  SAMEA2619888  ERS488658  ERR594328       MetaG       34   \n",
      "\n",
      "  Layer Size_fraction         Size_fraction_name  \\\n",
      "0   SRF      0.1-0.22  Girus/Prokaryote enriched   \n",
      "\n",
      "  Used_in_OM-RGC.v1 (Sunagawa_et_al_2015)  Used_for_OM-RGC.v2 (current work)  \\\n",
      "0                       Used_in_OM-RGC.v1  Used_for_OM-RGC.v2 (current work)   \n",
      "\n",
      "       Used_for_profiling (current work)      Polar  \\\n",
      "0  Not_used_for_profiling (current work)  Non polar   \n",
      "\n",
      "  Sample ID (registered at the BioSamples ...)  \\\n",
      "0                                 SAMEA2619888   \n",
      "\n",
      "  Sample ID (registered at the European Nu...)             Date/Time  \\\n",
      "0                                    ERS488658  2010-01-20T04:27:00Z   \n",
      "\n",
      "   Latitude  Longitude Depth, nominal                  OS region  \n",
      "0   18.3967     39.875              5  [RS] Red Sea (MRGID:4264)  \n"
     ]
    },
    {
     "name": "stderr",
     "output_type": "stream",
     "text": [
      "/opt/conda/lib/python3.9/site-packages/openpyxl/worksheet/_reader.py:312: UserWarning: Unknown extension is not supported and will be removed\n",
      "  warn(msg)\n"
     ]
    }
   ],
   "source": [
    "#@title Double click to see the cell of the Python program\n",
    "\n",
    "import pandas\n",
    "\n",
    "SUPP_INFO_LINK = \"https://zenodo.org/record/3539258/files/Salazar_et_al_2019_Suppl_Info.xlsx?download=1\"\n",
    "\n",
    "table_W1 = pandas.read_excel(SUPP_INFO_LINK, sheet_name=\"Table_W1\")\n",
    "\n",
    "# Select first sample_id at the surface water layer\n",
    "selected_sample = table_W1[table_W1.Layer==\"SRF\"].head(1)\n",
    "print(selected_sample)\n",
    "\n",
    "sample_id = selected_sample[\"PANGAEA sample id\"].item()"
   ]
  },
  {
   "cell_type": "markdown",
   "id": "25c31393-cfed-419b-b02e-b0b26ae01971",
   "metadata": {},
   "source": [
    "### 3. Get metadata for the first 10 intergenic regions of size greater than 100 for the selected sample"
   ]
  },
  {
   "cell_type": "code",
   "execution_count": 3,
   "id": "f9effea1-ea3b-4cc5-a289-db95795c6eda",
   "metadata": {},
   "outputs": [
    {
     "name": "stdout",
     "output_type": "stream",
     "text": [
      "             original_sequence_id  \\\n",
      "0   TARA_R110002003_G_scaffold3_1   \n",
      "1   TARA_R110002003_G_scaffold3_1   \n",
      "2   TARA_R110002003_G_scaffold3_1   \n",
      "3   TARA_R110002003_G_scaffold3_1   \n",
      "4   TARA_R110002003_G_scaffold3_1   \n",
      "5   TARA_R110002003_G_scaffold3_1   \n",
      "6   TARA_R110002003_G_scaffold3_1   \n",
      "7   TARA_R110002003_G_scaffold3_3   \n",
      "8   TARA_R110002003_G_scaffold3_3   \n",
      "9   TARA_R110002003_G_scaffold3_3   \n",
      "10  TARA_R110002003_G_scaffold3_3   \n",
      "11  TARA_R110002003_G_scaffold3_4   \n",
      "12  TARA_R110002003_G_scaffold3_4   \n",
      "13  TARA_R110002003_G_scaffold3_4   \n",
      "14  TARA_R110002003_G_scaffold3_4   \n",
      "15  TARA_R110002003_G_scaffold3_4   \n",
      "16  TARA_R110002003_G_scaffold3_4   \n",
      "17  TARA_R110002003_G_scaffold3_4   \n",
      "18  TARA_R110002003_G_scaffold3_4   \n",
      "19  TARA_R110002003_G_scaffold3_4   \n",
      "20  TARA_R110002003_G_scaffold3_4   \n",
      "21  TARA_R110002003_G_scaffold3_4   \n",
      "22  TARA_R110002003_G_scaffold3_4   \n",
      "23  TARA_R110002003_G_scaffold3_4   \n",
      "24  TARA_R110002003_G_scaffold3_4   \n",
      "25  TARA_R110002003_G_scaffold3_4   \n",
      "26  TARA_R110002003_G_scaffold3_4   \n",
      "27  TARA_R110002003_G_scaffold3_4   \n",
      "28  TARA_R110002003_G_scaffold3_4   \n",
      "29  TARA_R110002003_G_scaffold3_5   \n",
      "30  TARA_R110002003_G_scaffold3_5   \n",
      "31  TARA_R110002003_G_scaffold3_5   \n",
      "32  TARA_R110002003_G_scaffold3_5   \n",
      "33  TARA_R110002003_G_scaffold3_5   \n",
      "34  TARA_R110002003_G_scaffold3_5   \n",
      "35  TARA_R110002003_G_scaffold3_5   \n",
      "36  TARA_R110002003_G_scaffold3_5   \n",
      "37  TARA_R110002003_G_scaffold3_5   \n",
      "38  TARA_R110002003_G_scaffold3_5   \n",
      "39  TARA_R110002003_G_scaffold3_5   \n",
      "40  TARA_R110002003_G_scaffold3_5   \n",
      "41  TARA_R110002003_G_scaffold3_5   \n",
      "42  TARA_R110002003_G_scaffold3_5   \n",
      "43  TARA_R110002003_G_scaffold3_5   \n",
      "44  TARA_R110002003_G_scaffold3_5   \n",
      "45  TARA_R110002003_G_scaffold3_5   \n",
      "46  TARA_R110002003_G_scaffold3_5   \n",
      "47  TARA_R110002003_G_scaffold3_5   \n",
      "48  TARA_R110002003_G_scaffold3_5   \n",
      "\n",
      "                                                   id strand  start   stop  \\\n",
      "0                 TARA_R110002003_G_scaffold3_1_gene1      +    652    912   \n",
      "1   gap__TARA_R110002003_G_scaffold3_1_gene1__TARA...    NaN    912   1004   \n",
      "2                 TARA_R110002003_G_scaffold3_1_gene2      +   1004   2089   \n",
      "3   gap__TARA_R110002003_G_scaffold3_1_gene2__TARA...    NaN   2089   2172   \n",
      "4                 TARA_R110002003_G_scaffold3_1_gene3      -   2172   3290   \n",
      "5   gap__TARA_R110002003_G_scaffold3_1_gene3__TARA...    NaN   3290   6293   \n",
      "6                 TARA_R110002003_G_scaffold3_1_gene4      +   6293   7012   \n",
      "7   gap__TARA_R110002003_G_scaffold3_1_gene4__TARA...    NaN      0    327   \n",
      "8                 TARA_R110002003_G_scaffold3_3_gene5      +    327    944   \n",
      "9   gap__TARA_R110002003_G_scaffold3_3_gene5__TARA...    NaN    944   2742   \n",
      "10                TARA_R110002003_G_scaffold3_3_gene6      -   2742   2903   \n",
      "11  gap__TARA_R110002003_G_scaffold3_3_gene6__TARA...    NaN      0    379   \n",
      "12                TARA_R110002003_G_scaffold3_4_gene7      -    379   1530   \n",
      "13  gap__TARA_R110002003_G_scaffold3_4_gene7__TARA...    NaN   1530   1669   \n",
      "14                TARA_R110002003_G_scaffold3_4_gene8      -   1669   2328   \n",
      "15  gap__TARA_R110002003_G_scaffold3_4_gene8__TARA...    NaN   2328   4605   \n",
      "16                TARA_R110002003_G_scaffold3_4_gene9      +   4605   5831   \n",
      "17  gap__TARA_R110002003_G_scaffold3_4_gene9__TARA...    NaN   5831   6125   \n",
      "18               TARA_R110002003_G_scaffold3_4_gene10      -   6125   6691   \n",
      "19  gap__TARA_R110002003_G_scaffold3_4_gene10__TAR...    NaN   6691   7659   \n",
      "20               TARA_R110002003_G_scaffold3_4_gene11      -   7659  10370   \n",
      "21  gap__TARA_R110002003_G_scaffold3_4_gene11__TAR...    NaN  10370  11667   \n",
      "22               TARA_R110002003_G_scaffold3_4_gene12      -  11667  13409   \n",
      "23  gap__TARA_R110002003_G_scaffold3_4_gene12__TAR...    NaN  13409  14701   \n",
      "24               TARA_R110002003_G_scaffold3_4_gene13      +  14701  15723   \n",
      "25  gap__TARA_R110002003_G_scaffold3_4_gene13__TAR...    NaN  15723  16406   \n",
      "26               TARA_R110002003_G_scaffold3_4_gene14      -  16406  16696   \n",
      "27  gap__TARA_R110002003_G_scaffold3_4_gene14__TAR...    NaN  16696  18593   \n",
      "28               TARA_R110002003_G_scaffold3_4_gene15      +  18593  19441   \n",
      "29  gap__TARA_R110002003_G_scaffold3_4_gene15__TAR...    NaN      0   1605   \n",
      "30               TARA_R110002003_G_scaffold3_5_gene16      -   1605   2258   \n",
      "31  gap__TARA_R110002003_G_scaffold3_5_gene16__TAR...    NaN   2258   3331   \n",
      "32               TARA_R110002003_G_scaffold3_5_gene17      -   3331   3726   \n",
      "33  gap__TARA_R110002003_G_scaffold3_5_gene17__TAR...    NaN   3726   3835   \n",
      "34               TARA_R110002003_G_scaffold3_5_gene18      -   3835   4365   \n",
      "35  gap__TARA_R110002003_G_scaffold3_5_gene18__TAR...    NaN   4365   4835   \n",
      "36               TARA_R110002003_G_scaffold3_5_gene19      +   4835   5128   \n",
      "37  gap__TARA_R110002003_G_scaffold3_5_gene19__TAR...    NaN   5128   6229   \n",
      "38               TARA_R110002003_G_scaffold3_5_gene21      -   6229   7149   \n",
      "39  gap__TARA_R110002003_G_scaffold3_5_gene21__TAR...    NaN   7149   8107   \n",
      "40               TARA_R110002003_G_scaffold3_5_gene22      -   8107   8355   \n",
      "41  gap__TARA_R110002003_G_scaffold3_5_gene22__TAR...    NaN   8355   8793   \n",
      "42               TARA_R110002003_G_scaffold3_5_gene23      +   8793   9398   \n",
      "43  gap__TARA_R110002003_G_scaffold3_5_gene23__TAR...    NaN   9398   9869   \n",
      "44               TARA_R110002003_G_scaffold3_5_gene24      +   9869  10195   \n",
      "45  gap__TARA_R110002003_G_scaffold3_5_gene24__TAR...    NaN  10195  10357   \n",
      "46               TARA_R110002003_G_scaffold3_5_gene25      +  10357  10869   \n",
      "47  gap__TARA_R110002003_G_scaffold3_5_gene25__TAR...    NaN  10869  11583   \n",
      "48               TARA_R110002003_G_scaffold3_5_gene26      -  11583  13829   \n",
      "\n",
      "    length start_codon stop_codon   gene_type  \n",
      "0      261         yes        yes    complete  \n",
      "1       92         NaN        NaN         NaN  \n",
      "2     1086         yes        yes    complete  \n",
      "3       83         NaN        NaN         NaN  \n",
      "4     1119         yes        yes    complete  \n",
      "5     3003         NaN        NaN         NaN  \n",
      "6      720         yes        yes    complete  \n",
      "7      327         NaN        NaN         NaN  \n",
      "8      618         yes        yes    complete  \n",
      "9     1798         NaN        NaN         NaN  \n",
      "10     162         yes        yes    complete  \n",
      "11     379         NaN        NaN         NaN  \n",
      "12    1152         yes        yes    complete  \n",
      "13     139         NaN        NaN         NaN  \n",
      "14     660         yes        yes    complete  \n",
      "15    2277         NaN        NaN         NaN  \n",
      "16    1227         yes        yes    complete  \n",
      "17     294         NaN        NaN         NaN  \n",
      "18     567         yes        yes    complete  \n",
      "19     968         NaN        NaN         NaN  \n",
      "20    2712         yes        yes    complete  \n",
      "21    1297         NaN        NaN         NaN  \n",
      "22    1743         yes        yes    complete  \n",
      "23    1292         NaN        NaN         NaN  \n",
      "24    1023         yes        yes    complete  \n",
      "25     683         NaN        NaN         NaN  \n",
      "26     291         yes        yes    complete  \n",
      "27    1897         NaN        NaN         NaN  \n",
      "28     849         yes         no  incomplete  \n",
      "29    1605         NaN        NaN         NaN  \n",
      "30     654         yes        yes    complete  \n",
      "31    1073         NaN        NaN         NaN  \n",
      "32     396         yes        yes    complete  \n",
      "33     109         NaN        NaN         NaN  \n",
      "34     531         yes        yes    complete  \n",
      "35     470         NaN        NaN         NaN  \n",
      "36     294         yes        yes    complete  \n",
      "37    1101         NaN        NaN         NaN  \n",
      "38     921         yes        yes    complete  \n",
      "39     958         NaN        NaN         NaN  \n",
      "40     249         yes        yes    complete  \n",
      "41     438         NaN        NaN         NaN  \n",
      "42     606         yes        yes    complete  \n",
      "43     471         NaN        NaN         NaN  \n",
      "44     327         yes        yes    complete  \n",
      "45     162         NaN        NaN         NaN  \n",
      "46     513         yes        yes    complete  \n",
      "47     714         NaN        NaN         NaN  \n",
      "48    2247         yes        yes    complete  \n"
     ]
    }
   ],
   "source": [
    "#@title Double click to see the cell of the Python program\n",
    "\n",
    "from oceania import list_intergenic_regions\n",
    "\n",
    "intergenic_regions_metadata = list_intergenic_regions(sample_id, min_length=100, page=1, page_size=10)\n",
    "\n",
    "print(intergenic_regions_metadata)"
   ]
  },
  {
   "cell_type": "markdown",
   "id": "5ea0f4b3",
   "metadata": {},
   "source": [
    "### 4. Prepare request params"
   ]
  },
  {
   "cell_type": "code",
   "execution_count": 5,
   "id": "4132badf",
   "metadata": {},
   "outputs": [
    {
     "name": "stdout",
     "output_type": "stream",
     "text": [
      "data/raw/tara/OM-RGC_v2/assemblies/TARA_R110002003.scaftig.gz\n",
      "[('TARA_R110002003_G_scaffold3_1', 3290, 6293), ('TARA_R110002003_G_scaffold3_3', 0, 327), ('TARA_R110002003_G_scaffold3_3', 944, 2742), ('TARA_R110002003_G_scaffold3_4', 0, 379), ('TARA_R110002003_G_scaffold3_4', 1530, 1669)]\n"
     ]
    }
   ],
   "source": [
    "#@title Double click to see the cell of the Python program\n",
    "\n",
    "request_regions = intergenic_regions_metadata[['sequence', 'start', 'stop']].copy()\n",
    "request_params = []\n",
    "for row in request_regions.itertuples():\n",
    "    request_params.append(\n",
    "        (row[1], int(row[2]), int(row[3]))\n",
    "    )\n",
    "\n",
    "print(request_params)"
   ]
  },
  {
   "cell_type": "markdown",
   "id": "0159d5e7",
   "metadata": {},
   "source": [
    "### 5. Perform call to the OcéanIA services"
   ]
  },
  {
   "cell_type": "code",
   "execution_count": 6,
   "id": "6344f9c6",
   "metadata": {},
   "outputs": [
    {
     "name": "stderr",
     "output_type": "stream",
     "text": [
      "[29-06-2021 15:25:34] Sending request for fasta sequences\n",
      "[29-06-2021 15:25:35] Request accepted\n",
      "[29-06-2021 15:25:35] Waiting for results...\n",
      "[29-06-2021 15:25:46] Done. Elapsed time: 11.762923056958243 seconds\n"
     ]
    },
    {
     "name": "stdout",
     "output_type": "stream",
     "text": [
      "Result loaded into a DataFrame\n",
      "                              id  start   end type  \\\n",
      "0  TARA_R110002003_G_scaffold3_1   3290  6293  raw   \n",
      "1  TARA_R110002003_G_scaffold3_3      0   327  raw   \n",
      "2  TARA_R110002003_G_scaffold3_3    944  2742  raw   \n",
      "3  TARA_R110002003_G_scaffold3_4      0   379  raw   \n",
      "4  TARA_R110002003_G_scaffold3_4   1530  1669  raw   \n",
      "\n",
      "                                            sequence  \n",
      "0  TGATCGGGAGTCCTCCAGGCTTTGGATCGTTTGGGATAGATTTGTT...  \n",
      "1  TCCCTCTACACAGAGCAAACCTCCCAGGTAAGATCAGCCCGGGCTA...  \n",
      "2  CAACATCTCCCTCTTCTTTACTTTGAATCTCTCGTCCTTATTTCGT...  \n",
      "3  TCTCTCAAACAGTTGTTGTGCTCAACTTAGCAATCCATGTATTTGC...  \n",
      "4  GAGCAATTTGCAGATGGTGGTGTAGTCCTCGAAGTTGGAACAGATG...  \n"
     ]
    }
   ],
   "source": [
    "from oceania import get_sequences_from_fasta\n",
    "\n",
    "request_result = get_sequences_from_fasta(\n",
    "    sample_id,\n",
    "    request_params\n",
    ")\n",
    "\n",
    "# request_result is loaded as a pandas.DataFrame\n",
    "print(request_result)"
   ]
  }
 ],
 "metadata": {
  "colab": {
   "name": "Copia de query_dependecy.ipynb",
   "provenance": [
    {
     "file_id": "https://github.com/Inria-Chile/oceania-lib-demo/blob/main/notebooks/query_dependecy.ipynb",
     "timestamp": 1623342428289
    }
   ]
  },
  "kernelspec": {
   "display_name": "Python 3",
   "language": "python",
   "name": "python3"
  },
  "language_info": {
   "codemirror_mode": {
    "name": "ipython",
    "version": 3
   },
   "file_extension": ".py",
   "mimetype": "text/x-python",
   "name": "python",
   "nbconvert_exporter": "python",
   "pygments_lexer": "ipython3",
   "version": "3.9.5"
  }
 },
 "nbformat": 4,
 "nbformat_minor": 5
}
