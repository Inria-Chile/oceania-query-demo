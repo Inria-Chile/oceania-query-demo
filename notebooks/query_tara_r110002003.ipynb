{
 "cells": [
  {
   "cell_type": "markdown",
   "id": "9tcjtJ8cvaPv",
   "metadata": {
    "id": "9tcjtJ8cvaPv"
   },
   "source": [
    "# Simple query to OcéanIA Platform TARA_R110002003\n",
    "## This example shows how to extract arbitrary biological sub-sequences from a FASTA file available in the OcéanIA Platform"
   ]
  },
  {
   "cell_type": "markdown",
   "id": "yFdcX6L9vmkE",
   "metadata": {
    "id": "yFdcX6L9vmkE"
   },
   "source": [
    "### 1. Install oceania-query-fasta package"
   ]
  },
  {
   "cell_type": "code",
   "execution_count": null,
   "id": "55fdb172",
   "metadata": {
    "id": "55fdb172"
   },
   "outputs": [],
   "source": [
    "%pip install oceania-query-fasta"
   ]
  },
  {
   "cell_type": "markdown",
   "id": "5ea0f4b3",
   "metadata": {},
   "source": [
    "### 2. Prepare request params"
   ]
  },
  {
   "cell_type": "code",
   "execution_count": null,
   "id": "4132badf",
   "metadata": {},
   "outputs": [],
   "source": [
    "TARA_SAMPLE_ID = \"TARA_R110002003\"\n",
    "\n",
    "# REQUEST_PARAMS is a list of tuples that identify subsequences to extract\n",
    "# each tuple must have the values (sequence_id, start_index, stop_index, sequence_type)\n",
    "# sequence type accepted values are [raw, complement, reverse_complement], optional value if ommited defaults to \"raw\".\n",
    "REQUEST_PARAMS = [\n",
    "            (\"TARA_R110002003_G_scaffold3_1\",3290,6293),\n",
    "            (\"TARA_R110002003_G_scaffold3_3\",0,327),\n",
    "            (\"TARA_R110002003_G_scaffold3_3\",944,2742),\n",
    "            (\"TARA_R110002003_G_scaffold3_4\",379,379),\n",
    "            (\"TARA_R110002003_G_scaffold3_4\",1530,1669)\n",
    "        ]"
   ]
  },
  {
   "cell_type": "markdown",
   "id": "0159d5e7",
   "metadata": {},
   "source": [
    "### 3. Perform call to the OcéanIA services"
   ]
  },
  {
   "cell_type": "code",
   "execution_count": null,
   "id": "6344f9c6",
   "metadata": {},
   "outputs": [],
   "source": [
    "from oceania import get_sequences_from_fasta\n",
    "\n",
    "request_result = get_sequences_from_fasta(\n",
    "    TARA_SAMPLE_ID,\n",
    "    REQUEST_PARAMS\n",
    ")\n",
    "\n",
    "# get_sequences_from_fasta returns a pandas.DataFrame with the extracted sequences\n",
    "print(request_result)"
   ]
  }
 ],
 "metadata": {
  "colab": {
   "name": "Copia de query_dependecy.ipynb",
   "provenance": [
    {
     "file_id": "https://github.com/Inria-Chile/oceania-lib-demo/blob/main/notebooks/query_dependecy.ipynb",
     "timestamp": 1623342428289
    }
   ]
  },
  "kernelspec": {
   "display_name": "Python 3",
   "language": "python",
   "name": "python3"
  },
  "language_info": {
   "codemirror_mode": {
    "name": "ipython",
    "version": 3
   },
   "file_extension": ".py",
   "mimetype": "text/x-python",
   "name": "python",
   "nbconvert_exporter": "python",
   "pygments_lexer": "ipython3",
   "version": "3.9.5"
  }
 },
 "nbformat": 4,
 "nbformat_minor": 5
}
