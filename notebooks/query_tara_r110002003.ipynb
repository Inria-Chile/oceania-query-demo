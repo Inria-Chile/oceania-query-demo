{
 "cells": [
  {
   "cell_type": "markdown",
   "id": "9tcjtJ8cvaPv",
   "metadata": {
    "id": "9tcjtJ8cvaPv"
   },
   "source": [
    "# Query in storage TARA_R110002003"
   ]
  },
  {
   "cell_type": "markdown",
   "id": "ad49c138",
   "metadata": {},
   "source": [
    "![A user queries data of Ocean Microbial Reference Gene Catalog v2](https://upload.wikimedia.org/wikipedia/commons/1/19/Oceania-query-fasta.png)"
   ]
  },
  {
   "cell_type": "markdown",
   "id": "08ed5cb4",
   "metadata": {},
   "source": [
    "The FASTA file can have two types biological sequences (exclusion):\n",
    "\n",
    "1. Nucleotides: (comes from DNA/RNA) if it has its 4 letters alphabet (there are exceptions, but they are not relevant): ATCG. They correspond to the files of scaftigs (fragments of chromosomes or plasmids) and those of CDS (CoDing Sequences), genes that will become proteins. The central dogma of molecular biology says that GEN (in the genome) - transcription -> TRANSCRIT (mRNA) - translation -> PROTEIN (plays a role). Not everything that is in the genome is executed, so we have two types of nucleotides, which in the OM-RGC-V2, they are separated in metaG -> files with genome fragments metaT -> files with fragments of what was transcribed (what is running, transcriptome).\n",
    "\n",
    "2. Aminoacids: Their alphabet of 20-25 letters approx:\n",
    "\n",
    "ABCDEFGHIKLMNPQRSTVWYZ\n",
    "\n",
    "They correspond to proteins or protein fragments that play a role, supposedly, genes can be transformed to this type of sequence, for example in biopython using the translate command.\n",
    "\n",
    "This example has the following steps:\n",
    "\n",
    "1. Install de dependency library\n",
    "2. List all FASTA samples\n",
    "3. Choose the sample of the list.\n",
    "4. List all genes and gaps between genes for the sample\n",
    "5. Choose some gaps with some critera of filter (some simple like the length of the gap > n)\n",
    "6. Extract the sequences of the selected gaps\n",
    "    \n",
    "When the user chooses the proper input file of Ocean Microbial Reference Gene Catalog v2, in this case data/raw/tara/OM-RGC_v2/assemblies/TARA_R110002003.scaftig.gz and sets the filters in the POSITIONS variables. \n",
    "\n",
    "STORAGE_KEY: The object key file in the OceanIA storage.\n",
    "\n",
    "POSITIONS: The values to query. Each line represents a sequence to extract in the format \"sequence_id,start,end,type\", where:\n",
    "\n",
    "sequence_id: The sequence ID.\n",
    "\n",
    "start: The start index position of the sequence to be extracted.\n",
    "\n",
    "end: The end index position of the sequence to extract.\n",
    "\n",
    "type: The type of the sequence to extract. Options are [\"raw\", \"complement\", \"reverse_complement\"]. Type value is optional, if not provided default is \"raw\".\n",
    "\n",
    "After that, the user calls to the get_sequences_from_fasta method, in order to have the result data in pandas.\n",
    "\n",
    "Finally, the user prints the pandas data frame to the console."
   ]
  },
  {
   "cell_type": "markdown",
   "id": "yFdcX6L9vmkE",
   "metadata": {
    "id": "yFdcX6L9vmkE"
   },
   "source": [
    "## 1. Install oceania-query-fasta like a dependency"
   ]
  },
  {
   "cell_type": "code",
   "execution_count": 1,
   "id": "55fdb172",
   "metadata": {
    "id": "55fdb172"
   },
   "outputs": [
    {
     "name": "stdout",
     "output_type": "stream",
     "text": [
      "Requirement already satisfied: oceania-query-fasta in /home/patricio/inria-chile-sdk/oceania/oceania-query-demo/examples/venv/lib/python3.9/site-packages (0.1.6)\n",
      "Requirement already satisfied: click==7.* in /home/patricio/inria-chile-sdk/oceania/oceania-query-demo/examples/venv/lib/python3.9/site-packages (from oceania-query-fasta) (7.1.2)\n",
      "Requirement already satisfied: requests==2.* in /home/patricio/inria-chile-sdk/oceania/oceania-query-demo/examples/venv/lib/python3.9/site-packages (from oceania-query-fasta) (2.25.1)\n",
      "Requirement already satisfied: pandas==1.* in /home/patricio/inria-chile-sdk/oceania/oceania-query-demo/examples/venv/lib/python3.9/site-packages (from oceania-query-fasta) (1.2.5)\n",
      "Requirement already satisfied: python-dateutil>=2.7.3 in /home/patricio/inria-chile-sdk/oceania/oceania-query-demo/examples/venv/lib/python3.9/site-packages (from pandas==1.*->oceania-query-fasta) (2.8.1)\n",
      "Requirement already satisfied: numpy>=1.16.5 in /home/patricio/inria-chile-sdk/oceania/oceania-query-demo/examples/venv/lib/python3.9/site-packages (from pandas==1.*->oceania-query-fasta) (1.21.0)\n",
      "Requirement already satisfied: pytz>=2017.3 in /home/patricio/inria-chile-sdk/oceania/oceania-query-demo/examples/venv/lib/python3.9/site-packages (from pandas==1.*->oceania-query-fasta) (2021.1)\n",
      "Requirement already satisfied: chardet<5,>=3.0.2 in /home/patricio/inria-chile-sdk/oceania/oceania-query-demo/examples/venv/lib/python3.9/site-packages (from requests==2.*->oceania-query-fasta) (4.0.0)\n",
      "Requirement already satisfied: idna<3,>=2.5 in /home/patricio/inria-chile-sdk/oceania/oceania-query-demo/examples/venv/lib/python3.9/site-packages (from requests==2.*->oceania-query-fasta) (2.10)\n",
      "Requirement already satisfied: certifi>=2017.4.17 in /home/patricio/inria-chile-sdk/oceania/oceania-query-demo/examples/venv/lib/python3.9/site-packages (from requests==2.*->oceania-query-fasta) (2021.5.30)\n",
      "Requirement already satisfied: urllib3<1.27,>=1.21.1 in /home/patricio/inria-chile-sdk/oceania/oceania-query-demo/examples/venv/lib/python3.9/site-packages (from requests==2.*->oceania-query-fasta) (1.26.5)\n",
      "Requirement already satisfied: six>=1.5 in /home/patricio/inria-chile-sdk/oceania/oceania-query-demo/examples/venv/lib/python3.9/site-packages (from python-dateutil>=2.7.3->pandas==1.*->oceania-query-fasta) (1.16.0)\n"
     ]
    }
   ],
   "source": [
    "!pip install oceania-query-fasta"
   ]
  },
  {
   "cell_type": "markdown",
   "id": "85e49939",
   "metadata": {},
   "source": [
    "## 2. List all FASTA samples"
   ]
  },
  {
   "cell_type": "code",
   "execution_count": 2,
   "id": "5e47e1e6",
   "metadata": {
    "id": "5e47e1e6",
    "outputId": "f40ac50c-77c5-4908-f609-81b4627a57ab"
   },
   "outputs": [
    {
     "name": "stdout",
     "output_type": "stream",
     "text": [
      "Samples list:\n",
      "           sample_id                                         sample_key\n",
      "0    TARA_A100000164  data/raw/tara/OM-RGC_v2/assemblies/TARA_A10000...\n",
      "1    TARA_A100000171  data/raw/tara/OM-RGC_v2/assemblies/TARA_A10000...\n",
      "2    TARA_A100000172  data/raw/tara/OM-RGC_v2/assemblies/TARA_A10000...\n",
      "3    TARA_A100001011  data/raw/tara/OM-RGC_v2/assemblies/TARA_A10000...\n",
      "4    TARA_A100001015  data/raw/tara/OM-RGC_v2/assemblies/TARA_A10000...\n",
      "..               ...                                                ...\n",
      "365  TARA_Y100001972  data/raw/tara/OM-RGC_v2/assemblies/TARA_Y10000...\n",
      "366  TARA_Y100001973  data/raw/tara/OM-RGC_v2/assemblies/TARA_Y10000...\n",
      "367  TARA_Y100001978  data/raw/tara/OM-RGC_v2/assemblies/TARA_Y10000...\n",
      "368  TARA_Y100001980  data/raw/tara/OM-RGC_v2/assemblies/TARA_Y10000...\n",
      "369  TARA_Y200000002  data/raw/tara/OM-RGC_v2/assemblies/TARA_Y20000...\n",
      "\n",
      "[370 rows x 2 columns]\n"
     ]
    }
   ],
   "source": [
    "#@title Double click to see the Python program\n",
    "\n",
    "from oceania import list_fasta_samples\n",
    "\n",
    "# Lista all FASTA samples\n",
    "df_samples = list_fasta_samples()\n",
    "print(\"Samples list:\")\n",
    "print(df_samples)"
   ]
  },
  {
   "cell_type": "markdown",
   "id": "5ea0f4b3",
   "metadata": {},
   "source": [
    "## 3. Manually choose the file from the list of FASTA samples"
   ]
  },
  {
   "cell_type": "code",
   "execution_count": 3,
   "id": "4132badf",
   "metadata": {},
   "outputs": [
    {
     "name": "stdout",
     "output_type": "stream",
     "text": [
      "Genes and gaps by sample:\n",
      "             original_sequence_id  \\\n",
      "0   TARA_R110002003_G_scaffold3_1   \n",
      "1   TARA_R110002003_G_scaffold3_1   \n",
      "2   TARA_R110002003_G_scaffold3_1   \n",
      "3   TARA_R110002003_G_scaffold3_1   \n",
      "4   TARA_R110002003_G_scaffold3_1   \n",
      "5   TARA_R110002003_G_scaffold3_1   \n",
      "6   TARA_R110002003_G_scaffold3_1   \n",
      "7   TARA_R110002003_G_scaffold3_3   \n",
      "8   TARA_R110002003_G_scaffold3_3   \n",
      "9   TARA_R110002003_G_scaffold3_3   \n",
      "10  TARA_R110002003_G_scaffold3_3   \n",
      "11  TARA_R110002003_G_scaffold3_4   \n",
      "12  TARA_R110002003_G_scaffold3_4   \n",
      "13  TARA_R110002003_G_scaffold3_4   \n",
      "14  TARA_R110002003_G_scaffold3_4   \n",
      "15  TARA_R110002003_G_scaffold3_4   \n",
      "16  TARA_R110002003_G_scaffold3_4   \n",
      "17  TARA_R110002003_G_scaffold3_4   \n",
      "18  TARA_R110002003_G_scaffold3_4   \n",
      "19  TARA_R110002003_G_scaffold3_4   \n",
      "20  TARA_R110002003_G_scaffold3_4   \n",
      "21  TARA_R110002003_G_scaffold3_4   \n",
      "22  TARA_R110002003_G_scaffold3_4   \n",
      "23  TARA_R110002003_G_scaffold3_4   \n",
      "24  TARA_R110002003_G_scaffold3_4   \n",
      "25  TARA_R110002003_G_scaffold3_4   \n",
      "26  TARA_R110002003_G_scaffold3_4   \n",
      "27  TARA_R110002003_G_scaffold3_4   \n",
      "28  TARA_R110002003_G_scaffold3_4   \n",
      "29  TARA_R110002003_G_scaffold3_5   \n",
      "30  TARA_R110002003_G_scaffold3_5   \n",
      "31  TARA_R110002003_G_scaffold3_5   \n",
      "32  TARA_R110002003_G_scaffold3_5   \n",
      "33  TARA_R110002003_G_scaffold3_5   \n",
      "34  TARA_R110002003_G_scaffold3_5   \n",
      "35  TARA_R110002003_G_scaffold3_5   \n",
      "36  TARA_R110002003_G_scaffold3_5   \n",
      "37  TARA_R110002003_G_scaffold3_5   \n",
      "38  TARA_R110002003_G_scaffold3_5   \n",
      "39  TARA_R110002003_G_scaffold3_5   \n",
      "40  TARA_R110002003_G_scaffold3_5   \n",
      "41  TARA_R110002003_G_scaffold3_5   \n",
      "42  TARA_R110002003_G_scaffold3_5   \n",
      "43  TARA_R110002003_G_scaffold3_5   \n",
      "44  TARA_R110002003_G_scaffold3_5   \n",
      "45  TARA_R110002003_G_scaffold3_5   \n",
      "46  TARA_R110002003_G_scaffold3_5   \n",
      "47  TARA_R110002003_G_scaffold3_5   \n",
      "48  TARA_R110002003_G_scaffold3_5   \n",
      "\n",
      "                                                   id strand  start   stop  \\\n",
      "0                 TARA_R110002003_G_scaffold3_1_gene1      +    652    912   \n",
      "1   gap__TARA_R110002003_G_scaffold3_1_gene1__TARA...    NaN    912   1004   \n",
      "2                 TARA_R110002003_G_scaffold3_1_gene2      +   1004   2089   \n",
      "3   gap__TARA_R110002003_G_scaffold3_1_gene2__TARA...    NaN   2089   2172   \n",
      "4                 TARA_R110002003_G_scaffold3_1_gene3      -   2172   3290   \n",
      "5   gap__TARA_R110002003_G_scaffold3_1_gene3__TARA...    NaN   3290   6293   \n",
      "6                 TARA_R110002003_G_scaffold3_1_gene4      +   6293   7012   \n",
      "7   gap__TARA_R110002003_G_scaffold3_1_gene4__TARA...    NaN      0    327   \n",
      "8                 TARA_R110002003_G_scaffold3_3_gene5      +    327    944   \n",
      "9   gap__TARA_R110002003_G_scaffold3_3_gene5__TARA...    NaN    944   2742   \n",
      "10                TARA_R110002003_G_scaffold3_3_gene6      -   2742   2903   \n",
      "11  gap__TARA_R110002003_G_scaffold3_3_gene6__TARA...    NaN      0    379   \n",
      "12                TARA_R110002003_G_scaffold3_4_gene7      -    379   1530   \n",
      "13  gap__TARA_R110002003_G_scaffold3_4_gene7__TARA...    NaN   1530   1669   \n",
      "14                TARA_R110002003_G_scaffold3_4_gene8      -   1669   2328   \n",
      "15  gap__TARA_R110002003_G_scaffold3_4_gene8__TARA...    NaN   2328   4605   \n",
      "16                TARA_R110002003_G_scaffold3_4_gene9      +   4605   5831   \n",
      "17  gap__TARA_R110002003_G_scaffold3_4_gene9__TARA...    NaN   5831   6125   \n",
      "18               TARA_R110002003_G_scaffold3_4_gene10      -   6125   6691   \n",
      "19  gap__TARA_R110002003_G_scaffold3_4_gene10__TAR...    NaN   6691   7659   \n",
      "20               TARA_R110002003_G_scaffold3_4_gene11      -   7659  10370   \n",
      "21  gap__TARA_R110002003_G_scaffold3_4_gene11__TAR...    NaN  10370  11667   \n",
      "22               TARA_R110002003_G_scaffold3_4_gene12      -  11667  13409   \n",
      "23  gap__TARA_R110002003_G_scaffold3_4_gene12__TAR...    NaN  13409  14701   \n",
      "24               TARA_R110002003_G_scaffold3_4_gene13      +  14701  15723   \n",
      "25  gap__TARA_R110002003_G_scaffold3_4_gene13__TAR...    NaN  15723  16406   \n",
      "26               TARA_R110002003_G_scaffold3_4_gene14      -  16406  16696   \n",
      "27  gap__TARA_R110002003_G_scaffold3_4_gene14__TAR...    NaN  16696  18593   \n",
      "28               TARA_R110002003_G_scaffold3_4_gene15      +  18593  19441   \n",
      "29  gap__TARA_R110002003_G_scaffold3_4_gene15__TAR...    NaN      0   1605   \n",
      "30               TARA_R110002003_G_scaffold3_5_gene16      -   1605   2258   \n",
      "31  gap__TARA_R110002003_G_scaffold3_5_gene16__TAR...    NaN   2258   3331   \n",
      "32               TARA_R110002003_G_scaffold3_5_gene17      -   3331   3726   \n",
      "33  gap__TARA_R110002003_G_scaffold3_5_gene17__TAR...    NaN   3726   3835   \n",
      "34               TARA_R110002003_G_scaffold3_5_gene18      -   3835   4365   \n",
      "35  gap__TARA_R110002003_G_scaffold3_5_gene18__TAR...    NaN   4365   4835   \n",
      "36               TARA_R110002003_G_scaffold3_5_gene19      +   4835   5128   \n",
      "37  gap__TARA_R110002003_G_scaffold3_5_gene19__TAR...    NaN   5128   6229   \n",
      "38               TARA_R110002003_G_scaffold3_5_gene21      -   6229   7149   \n",
      "39  gap__TARA_R110002003_G_scaffold3_5_gene21__TAR...    NaN   7149   8107   \n",
      "40               TARA_R110002003_G_scaffold3_5_gene22      -   8107   8355   \n",
      "41  gap__TARA_R110002003_G_scaffold3_5_gene22__TAR...    NaN   8355   8793   \n",
      "42               TARA_R110002003_G_scaffold3_5_gene23      +   8793   9398   \n",
      "43  gap__TARA_R110002003_G_scaffold3_5_gene23__TAR...    NaN   9398   9869   \n",
      "44               TARA_R110002003_G_scaffold3_5_gene24      +   9869  10195   \n",
      "45  gap__TARA_R110002003_G_scaffold3_5_gene24__TAR...    NaN  10195  10357   \n",
      "46               TARA_R110002003_G_scaffold3_5_gene25      +  10357  10869   \n",
      "47  gap__TARA_R110002003_G_scaffold3_5_gene25__TAR...    NaN  10869  11583   \n",
      "48               TARA_R110002003_G_scaffold3_5_gene26      -  11583  13829   \n",
      "\n",
      "    length start_codon stop_codon   gene_type  \n",
      "0      261         yes        yes    complete  \n",
      "1       92         NaN        NaN         NaN  \n",
      "2     1086         yes        yes    complete  \n",
      "3       83         NaN        NaN         NaN  \n",
      "4     1119         yes        yes    complete  \n",
      "5     3003         NaN        NaN         NaN  \n",
      "6      720         yes        yes    complete  \n",
      "7      327         NaN        NaN         NaN  \n",
      "8      618         yes        yes    complete  \n",
      "9     1798         NaN        NaN         NaN  \n",
      "10     162         yes        yes    complete  \n",
      "11     379         NaN        NaN         NaN  \n",
      "12    1152         yes        yes    complete  \n",
      "13     139         NaN        NaN         NaN  \n",
      "14     660         yes        yes    complete  \n",
      "15    2277         NaN        NaN         NaN  \n",
      "16    1227         yes        yes    complete  \n",
      "17     294         NaN        NaN         NaN  \n",
      "18     567         yes        yes    complete  \n",
      "19     968         NaN        NaN         NaN  \n",
      "20    2712         yes        yes    complete  \n",
      "21    1297         NaN        NaN         NaN  \n",
      "22    1743         yes        yes    complete  \n",
      "23    1292         NaN        NaN         NaN  \n",
      "24    1023         yes        yes    complete  \n",
      "25     683         NaN        NaN         NaN  \n",
      "26     291         yes        yes    complete  \n",
      "27    1897         NaN        NaN         NaN  \n",
      "28     849         yes         no  incomplete  \n",
      "29    1605         NaN        NaN         NaN  \n",
      "30     654         yes        yes    complete  \n",
      "31    1073         NaN        NaN         NaN  \n",
      "32     396         yes        yes    complete  \n",
      "33     109         NaN        NaN         NaN  \n",
      "34     531         yes        yes    complete  \n",
      "35     470         NaN        NaN         NaN  \n",
      "36     294         yes        yes    complete  \n",
      "37    1101         NaN        NaN         NaN  \n",
      "38     921         yes        yes    complete  \n",
      "39     958         NaN        NaN         NaN  \n",
      "40     249         yes        yes    complete  \n",
      "41     438         NaN        NaN         NaN  \n",
      "42     606         yes        yes    complete  \n",
      "43     471         NaN        NaN         NaN  \n",
      "44     327         yes        yes    complete  \n",
      "45     162         NaN        NaN         NaN  \n",
      "46     513         yes        yes    complete  \n",
      "47     714         NaN        NaN         NaN  \n",
      "48    2247         yes        yes    complete  \n"
     ]
    }
   ],
   "source": [
    "#@title Double click to see the cell of the Python program\n",
    "\n",
    "from oceania import list_genes_and_gaps\n",
    "\n",
    "sample_id = \"TARA_R110002003\"\n",
    "STORAGE_KEY = df_samples[df_samples.sample_id == sample_id]['sample_key'].values[0]\n",
    "df_gaps = list_genes_and_gaps(sample_id)\n",
    "print(\"Genes and gaps by sample:\")\n",
    "print(df_gaps)"
   ]
  },
  {
   "cell_type": "markdown",
   "id": "8799edb6",
   "metadata": {},
   "source": [
    "## 4. Create the query filter to list gaps"
   ]
  },
  {
   "cell_type": "code",
   "execution_count": 4,
   "id": "f17839f3",
   "metadata": {},
   "outputs": [
    {
     "name": "stdout",
     "output_type": "stream",
     "text": [
      "Query list of gaps, to get 5 with length over 100\n",
      "             original_sequence_id  \\\n",
      "5   TARA_R110002003_G_scaffold3_1   \n",
      "7   TARA_R110002003_G_scaffold3_3   \n",
      "9   TARA_R110002003_G_scaffold3_3   \n",
      "11  TARA_R110002003_G_scaffold3_4   \n",
      "13  TARA_R110002003_G_scaffold3_4   \n",
      "\n",
      "                                                   id strand  start  stop  \\\n",
      "5   gap__TARA_R110002003_G_scaffold3_1_gene3__TARA...    NaN   3290  6293   \n",
      "7   gap__TARA_R110002003_G_scaffold3_1_gene4__TARA...    NaN      0   327   \n",
      "9   gap__TARA_R110002003_G_scaffold3_3_gene5__TARA...    NaN    944  2742   \n",
      "11  gap__TARA_R110002003_G_scaffold3_3_gene6__TARA...    NaN      0   379   \n",
      "13  gap__TARA_R110002003_G_scaffold3_4_gene7__TARA...    NaN   1530  1669   \n",
      "\n",
      "    length start_codon stop_codon gene_type  \n",
      "5     3003         NaN        NaN       NaN  \n",
      "7      327         NaN        NaN       NaN  \n",
      "9     1798         NaN        NaN       NaN  \n",
      "11     379         NaN        NaN       NaN  \n",
      "13     139         NaN        NaN       NaN  \n"
     ]
    }
   ],
   "source": [
    "#@title Double click to see the cell of the Python program\n",
    "\n",
    "query = 'length > 100 and id.str.startswith(\"gap__\")'\n",
    "query_result = df_gaps.query(query, engine='python').head(5)\n",
    "\n",
    "print(\"Query list of gaps, to get 5 with length over 100\")\n",
    "print(query_result)"
   ]
  },
  {
   "cell_type": "markdown",
   "id": "e17d2672",
   "metadata": {},
   "source": [
    "## 5. Choose some gaps with some critera of filter (some simple like the length of the gap > n)"
   ]
  },
  {
   "cell_type": "code",
   "execution_count": 5,
   "id": "d1e977d4",
   "metadata": {},
   "outputs": [
    {
     "name": "stdout",
     "output_type": "stream",
     "text": [
      "Positions:\n",
      "[('TARA_R110002003_G_scaffold3_1', 3290, 6293), ('TARA_R110002003_G_scaffold3_3', 0, 327), ('TARA_R110002003_G_scaffold3_3', 944, 2742), ('TARA_R110002003_G_scaffold3_4', 0, 379), ('TARA_R110002003_G_scaffold3_4', 1530, 1669)]\n"
     ]
    }
   ],
   "source": [
    "#@title Double click to see the cell of the Python program\n",
    "\n",
    "params = query_result[['original_sequence_id', 'start', 'stop']].copy()\n",
    "POSITIONS = []\n",
    "for row in params.itertuples():\n",
    "    POSITIONS.append((str(row[1]), int(row[2]), int(row[3])))\n",
    "\n",
    "print(\"Positions:\")\n",
    "print(POSITIONS)"
   ]
  },
  {
   "cell_type": "markdown",
   "id": "0159d5e7",
   "metadata": {},
   "source": [
    "## 6. Extract the biological sequences of the selected gaps"
   ]
  },
  {
   "cell_type": "code",
   "execution_count": 6,
   "id": "6344f9c6",
   "metadata": {},
   "outputs": [
    {
     "name": "stderr",
     "output_type": "stream",
     "text": [
      "[27-06-2021 01:30:39] Sending request for fasta sequences\n",
      "[27-06-2021 01:30:40] Request accepted\n",
      "[27-06-2021 01:30:40] Waiting for results...\n",
      "[27-06-2021 01:30:53] Done. Elapsed time: 13.899570089000918 seconds\n"
     ]
    },
    {
     "name": "stdout",
     "output_type": "stream",
     "text": [
      "Dataframe loaded:\n",
      "                              id  start   end type  \\\n",
      "0  TARA_R110002003_G_scaffold3_1   3290  6293  raw   \n",
      "1  TARA_R110002003_G_scaffold3_3      0   327  raw   \n",
      "2  TARA_R110002003_G_scaffold3_3    944  2742  raw   \n",
      "3  TARA_R110002003_G_scaffold3_4      0   379  raw   \n",
      "4  TARA_R110002003_G_scaffold3_4   1530  1669  raw   \n",
      "\n",
      "                                            sequence  \n",
      "0  TGATCGGGAGTCCTCCAGGCTTTGGATCGTTTGGGATAGATTTGTT...  \n",
      "1  TCCCTCTACACAGAGCAAACCTCCCAGGTAAGATCAGCCCGGGCTA...  \n",
      "2  CAACATCTCCCTCTTCTTTACTTTGAATCTCTCGTCCTTATTTCGT...  \n",
      "3  TCTCTCAAACAGTTGTTGTGCTCAACTTAGCAATCCATGTATTTGC...  \n",
      "4  GAGCAATTTGCAGATGGTGGTGTAGTCCTCGAAGTTGGAACAGATG...  \n"
     ]
    }
   ],
   "source": [
    "#@title Double click to see the cell of the Python program\n",
    "\n",
    "from oceania import get_sequences_from_fasta\n",
    "\n",
    "results = get_sequences_from_fasta(\n",
    "    STORAGE_KEY,\n",
    "    POSITIONS\n",
    ")\n",
    "\n",
    "print(\"Dataframe loaded:\")\n",
    "print(results)"
   ]
  }
 ],
 "metadata": {
  "colab": {
   "name": "Copia de query_dependecy.ipynb",
   "provenance": [
    {
     "file_id": "https://github.com/Inria-Chile/oceania-lib-demo/blob/main/notebooks/query_dependecy.ipynb",
     "timestamp": 1623342428289
    }
   ]
  },
  "kernelspec": {
   "display_name": "Python 3",
   "language": "python",
   "name": "python3"
  },
  "language_info": {
   "codemirror_mode": {
    "name": "ipython",
    "version": 3
   },
   "file_extension": ".py",
   "mimetype": "text/x-python",
   "name": "python",
   "nbconvert_exporter": "python",
   "pygments_lexer": "ipython3",
   "version": "3.9.5"
  }
 },
 "nbformat": 4,
 "nbformat_minor": 5
}